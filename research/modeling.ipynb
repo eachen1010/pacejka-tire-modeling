{
 "cells": [
  {
   "cell_type": "markdown",
   "metadata": {},
   "source": [
    "## Pacejka Formula"
   ]
  },
  {
   "cell_type": "markdown",
   "metadata": {},
   "source": [
    "\n",
    "The aim of this project is to use the magic formula to fit curves to tire performance based on the emperical data given. We'll use these curves to determine the best tire to use during competition. "
   ]
  },
  {
   "cell_type": "code",
   "execution_count": 1,
   "metadata": {},
   "outputs": [],
   "source": [
    "import math\n",
    "import numpy as np\n",
    "import pandas as pd\n",
    "from scipy.optimize import curve_fit\n",
    "import matplotlib.pyplot as plt"
   ]
  },
  {
   "cell_type": "markdown",
   "metadata": {},
   "source": [
    "### Magic Longitudinal Formula\n",
    "This is a mathematical model used to calculate the longitudinal force of a tire based on its vertical load and longitudinal slip."
   ]
  },
  {
   "cell_type": "code",
   "execution_count": 2,
   "metadata": {},
   "outputs": [],
   "source": [
    "# SR = slip ratio\n",
    "# B = stiffness factor\n",
    "# C = shape factor\n",
    "# D = peak factor\n",
    "# E = curvature factor\n",
    "def longitudinal_formula(SR, B, C, D, E):\n",
    "    D * np.sin(C * np.arctan(B * (1 - E) * SR + E * np.arctan(B * SR)))"
   ]
  },
  {
   "cell_type": "markdown",
   "metadata": {},
   "source": [
    "### Magic Lateral Force Formula\n",
    "This model describes the relationship between the lateral force and slip angle."
   ]
  },
  {
   "cell_type": "code",
   "execution_count": 3,
   "metadata": {},
   "outputs": [],
   "source": [
    "# SA = slip angle\n",
    "# B = stiffness factor\n",
    "# C = shape factor\n",
    "# D = peak factor\n",
    "# E = curvature factor\n",
    "def lateral_formula(SA, B, C, D, E):\n",
    "    SA_rad = np.radians(SA)\n",
    "    return D * np.sin(C * np.arctan(B * (1 - E) * SA_rad + E * np.arctan(B * SA_rad)))"
   ]
  },
  {
   "cell_type": "markdown",
   "metadata": {},
   "source": [
    "### Data Processing\n",
    "We will now process the data from the .dat files provided by FSAE."
   ]
  },
  {
   "cell_type": "code",
   "execution_count": 9,
   "metadata": {},
   "outputs": [
    {
     "name": "stderr",
     "output_type": "stream",
     "text": [
      "/var/folders/7l/nck1kh_j2rv3w8xvm790mj440000gn/T/ipykernel_58160/1869420761.py:3: DtypeWarning: Columns (0,1,2,3,4,5,6,7,8,9,10,11,12,13,14,15,16,17,18,19,20) have mixed types. Specify dtype option on import or set low_memory=False.\n",
      "  data = pd.read_csv(csv_path, sep='\\t')\n"
     ]
    }
   ],
   "source": [
    "# Load in the data\n",
    "csv_path = r\"/Users/EmmyChen/IdeaProjects/pacejka-tire-modeling/research/B1965raw14.dat\"\n",
    "data = pd.read_csv(csv_path, sep='\\t')"
   ]
  },
  {
   "cell_type": "code",
   "execution_count": 10,
   "metadata": {},
   "outputs": [
    {
     "data": {
      "text/html": [
       "<div>\n",
       "<style scoped>\n",
       "    .dataframe tbody tr th:only-of-type {\n",
       "        vertical-align: middle;\n",
       "    }\n",
       "\n",
       "    .dataframe tbody tr th {\n",
       "        vertical-align: top;\n",
       "    }\n",
       "\n",
       "    .dataframe thead th {\n",
       "        text-align: right;\n",
       "    }\n",
       "</style>\n",
       "<table border=\"1\" class=\"dataframe\">\n",
       "  <thead>\n",
       "    <tr style=\"text-align: right;\">\n",
       "      <th></th>\n",
       "      <th></th>\n",
       "      <th></th>\n",
       "      <th></th>\n",
       "      <th></th>\n",
       "      <th></th>\n",
       "      <th></th>\n",
       "      <th></th>\n",
       "      <th></th>\n",
       "      <th></th>\n",
       "      <th></th>\n",
       "      <th></th>\n",
       "      <th></th>\n",
       "      <th></th>\n",
       "      <th></th>\n",
       "      <th></th>\n",
       "      <th></th>\n",
       "      <th></th>\n",
       "      <th></th>\n",
       "      <th></th>\n",
       "      <th>TIRF Data File: Project 1965; Run 014; Date 07-31-2018; Time 07:37; ISO False; ID 7jsWp80</th>\n",
       "    </tr>\n",
       "  </thead>\n",
       "  <tbody>\n",
       "    <tr>\n",
       "      <th>ET</th>\n",
       "      <th>V</th>\n",
       "      <th>N</th>\n",
       "      <th>SA</th>\n",
       "      <th>IA</th>\n",
       "      <th>RL</th>\n",
       "      <th>RE</th>\n",
       "      <th>P</th>\n",
       "      <th>FX</th>\n",
       "      <th>FY</th>\n",
       "      <th>FZ</th>\n",
       "      <th>MX</th>\n",
       "      <th>MZ</th>\n",
       "      <th>NFX</th>\n",
       "      <th>NFY</th>\n",
       "      <th>RST</th>\n",
       "      <th>TSTI</th>\n",
       "      <th>TSTC</th>\n",
       "      <th>TSTO</th>\n",
       "      <th>AmbTmp</th>\n",
       "      <td>SR</td>\n",
       "    </tr>\n",
       "    <tr>\n",
       "      <th>s</th>\n",
       "      <th>kph</th>\n",
       "      <th>rpm</th>\n",
       "      <th>deg</th>\n",
       "      <th>deg</th>\n",
       "      <th>cm</th>\n",
       "      <th>cm</th>\n",
       "      <th>kPa</th>\n",
       "      <th>N</th>\n",
       "      <th>N</th>\n",
       "      <th>N</th>\n",
       "      <th>Nm</th>\n",
       "      <th>Nm</th>\n",
       "      <th>none</th>\n",
       "      <th>none</th>\n",
       "      <th>deg c</th>\n",
       "      <th>deg c</th>\n",
       "      <th>deg c</th>\n",
       "      <th>deg c</th>\n",
       "      <th>deg c</th>\n",
       "      <td>SAE</td>\n",
       "    </tr>\n",
       "    <tr>\n",
       "      <th>0.000</th>\n",
       "      <th>0.05</th>\n",
       "      <th>0.08</th>\n",
       "      <th>0.007</th>\n",
       "      <th>0.010</th>\n",
       "      <th>19.62</th>\n",
       "      <th>154.09</th>\n",
       "      <th>83.72</th>\n",
       "      <th>5.22</th>\n",
       "      <th>-59.60</th>\n",
       "      <th>-605.62</th>\n",
       "      <th>-4.02</th>\n",
       "      <th>-0.61</th>\n",
       "      <th>-0.0086</th>\n",
       "      <th>0.0984</th>\n",
       "      <th>29.79</th>\n",
       "      <th>26.07</th>\n",
       "      <th>26.67</th>\n",
       "      <th>27.61</th>\n",
       "      <th>26.73</th>\n",
       "      <td>-0.8727</td>\n",
       "    </tr>\n",
       "    <tr>\n",
       "      <th>0.010</th>\n",
       "      <th>0.07</th>\n",
       "      <th>0.01</th>\n",
       "      <th>0.013</th>\n",
       "      <th>-0.006</th>\n",
       "      <th>19.63</th>\n",
       "      <th>1285.57</th>\n",
       "      <th>83.83</th>\n",
       "      <th>5.66</th>\n",
       "      <th>-60.77</th>\n",
       "      <th>-602.97</th>\n",
       "      <th>-5.38</th>\n",
       "      <th>-0.58</th>\n",
       "      <th>-0.0094</th>\n",
       "      <th>0.1008</th>\n",
       "      <th>29.78</th>\n",
       "      <th>26.07</th>\n",
       "      <th>26.65</th>\n",
       "      <th>27.62</th>\n",
       "      <th>26.71</th>\n",
       "      <td>-0.9847</td>\n",
       "    </tr>\n",
       "    <tr>\n",
       "      <th>0.020</th>\n",
       "      <th>0.06</th>\n",
       "      <th>0.15</th>\n",
       "      <th>0.007</th>\n",
       "      <th>-0.007</th>\n",
       "      <th>19.63</th>\n",
       "      <th>100.46</th>\n",
       "      <th>83.42</th>\n",
       "      <th>5.64</th>\n",
       "      <th>-60.76</th>\n",
       "      <th>-601.08</th>\n",
       "      <th>-6.26</th>\n",
       "      <th>-0.59</th>\n",
       "      <th>-0.0094</th>\n",
       "      <th>0.1011</th>\n",
       "      <th>29.77</th>\n",
       "      <th>26.06</th>\n",
       "      <th>26.65</th>\n",
       "      <th>27.60</th>\n",
       "      <th>26.73</th>\n",
       "      <td>-0.8046</td>\n",
       "    </tr>\n",
       "  </tbody>\n",
       "</table>\n",
       "</div>"
      ],
      "text/plain": [
       "                                                                                                                               TIRF Data File: Project 1965; Run 014; Date 07-31-2018; Time 07:37; ISO False; ID 7jsWp80\n",
       "ET    V    N    SA    IA     RL    RE      P     FX   FY     FZ      MX    MZ    NFX     NFY    RST   TSTI  TSTC  TSTO  AmbTmp                                                 SR                                       \n",
       "s     kph  rpm  deg   deg    cm    cm      kPa   N    N      N       Nm    Nm    none    none   deg c deg c deg c deg c deg c                                                 SAE                                       \n",
       "0.000 0.05 0.08 0.007 0.010  19.62 154.09  83.72 5.22 -59.60 -605.62 -4.02 -0.61 -0.0086 0.0984 29.79 26.07 26.67 27.61 26.73                                             -0.8727                                       \n",
       "0.010 0.07 0.01 0.013 -0.006 19.63 1285.57 83.83 5.66 -60.77 -602.97 -5.38 -0.58 -0.0094 0.1008 29.78 26.07 26.65 27.62 26.71                                             -0.9847                                       \n",
       "0.020 0.06 0.15 0.007 -0.007 19.63 100.46  83.42 5.64 -60.76 -601.08 -6.26 -0.59 -0.0094 0.1011 29.77 26.06 26.65 27.60 26.73                                             -0.8046                                       "
      ]
     },
     "execution_count": 10,
     "metadata": {},
     "output_type": "execute_result"
    }
   ],
   "source": [
    "data.head()"
   ]
  },
  {
   "cell_type": "code",
   "execution_count": 11,
   "metadata": {},
   "outputs": [
    {
     "ename": "KeyError",
     "evalue": "'SR'",
     "output_type": "error",
     "traceback": [
      "\u001b[31m---------------------------------------------------------------------------\u001b[39m",
      "\u001b[31mKeyError\u001b[39m                                  Traceback (most recent call last)",
      "\u001b[36mFile \u001b[39m\u001b[32m~/IdeaProjects/magic-formula-example/Pacejka-tire-model/testenv/lib/python3.13/site-packages/pandas/core/indexes/base.py:3812\u001b[39m, in \u001b[36mIndex.get_loc\u001b[39m\u001b[34m(self, key)\u001b[39m\n\u001b[32m   3811\u001b[39m \u001b[38;5;28;01mtry\u001b[39;00m:\n\u001b[32m-> \u001b[39m\u001b[32m3812\u001b[39m     \u001b[38;5;28;01mreturn\u001b[39;00m \u001b[38;5;28;43mself\u001b[39;49m\u001b[43m.\u001b[49m\u001b[43m_engine\u001b[49m\u001b[43m.\u001b[49m\u001b[43mget_loc\u001b[49m\u001b[43m(\u001b[49m\u001b[43mcasted_key\u001b[49m\u001b[43m)\u001b[49m\n\u001b[32m   3813\u001b[39m \u001b[38;5;28;01mexcept\u001b[39;00m \u001b[38;5;167;01mKeyError\u001b[39;00m \u001b[38;5;28;01mas\u001b[39;00m err:\n",
      "\u001b[36mFile \u001b[39m\u001b[32mpandas/_libs/index.pyx:167\u001b[39m, in \u001b[36mpandas._libs.index.IndexEngine.get_loc\u001b[39m\u001b[34m()\u001b[39m\n",
      "\u001b[36mFile \u001b[39m\u001b[32mpandas/_libs/index.pyx:196\u001b[39m, in \u001b[36mpandas._libs.index.IndexEngine.get_loc\u001b[39m\u001b[34m()\u001b[39m\n",
      "\u001b[36mFile \u001b[39m\u001b[32mpandas/_libs/hashtable_class_helper.pxi:7088\u001b[39m, in \u001b[36mpandas._libs.hashtable.PyObjectHashTable.get_item\u001b[39m\u001b[34m()\u001b[39m\n",
      "\u001b[36mFile \u001b[39m\u001b[32mpandas/_libs/hashtable_class_helper.pxi:7096\u001b[39m, in \u001b[36mpandas._libs.hashtable.PyObjectHashTable.get_item\u001b[39m\u001b[34m()\u001b[39m\n",
      "\u001b[31mKeyError\u001b[39m: 'SR'",
      "\nThe above exception was the direct cause of the following exception:\n",
      "\u001b[31mKeyError\u001b[39m                                  Traceback (most recent call last)",
      "\u001b[36mCell\u001b[39m\u001b[36m \u001b[39m\u001b[32mIn[11]\u001b[39m\u001b[32m, line 2\u001b[39m\n\u001b[32m      1\u001b[39m \u001b[38;5;66;03m# Extract relevant columns\u001b[39;00m\n\u001b[32m----> \u001b[39m\u001b[32m2\u001b[39m SR = \u001b[43mdata\u001b[49m\u001b[43m[\u001b[49m\u001b[33;43m'\u001b[39;49m\u001b[33;43mSR\u001b[39;49m\u001b[33;43m'\u001b[39;49m\u001b[43m]\u001b[49m.values\n\u001b[32m      3\u001b[39m FX = data[\u001b[33m'\u001b[39m\u001b[33mFX\u001b[39m\u001b[33m'\u001b[39m].values\n\u001b[32m      4\u001b[39m SA = data[\u001b[33m'\u001b[39m\u001b[33mSA\u001b[39m\u001b[33m'\u001b[39m].values\n",
      "\u001b[36mFile \u001b[39m\u001b[32m~/IdeaProjects/magic-formula-example/Pacejka-tire-model/testenv/lib/python3.13/site-packages/pandas/core/frame.py:4113\u001b[39m, in \u001b[36mDataFrame.__getitem__\u001b[39m\u001b[34m(self, key)\u001b[39m\n\u001b[32m   4111\u001b[39m \u001b[38;5;28;01mif\u001b[39;00m \u001b[38;5;28mself\u001b[39m.columns.nlevels > \u001b[32m1\u001b[39m:\n\u001b[32m   4112\u001b[39m     \u001b[38;5;28;01mreturn\u001b[39;00m \u001b[38;5;28mself\u001b[39m._getitem_multilevel(key)\n\u001b[32m-> \u001b[39m\u001b[32m4113\u001b[39m indexer = \u001b[38;5;28;43mself\u001b[39;49m\u001b[43m.\u001b[49m\u001b[43mcolumns\u001b[49m\u001b[43m.\u001b[49m\u001b[43mget_loc\u001b[49m\u001b[43m(\u001b[49m\u001b[43mkey\u001b[49m\u001b[43m)\u001b[49m\n\u001b[32m   4114\u001b[39m \u001b[38;5;28;01mif\u001b[39;00m is_integer(indexer):\n\u001b[32m   4115\u001b[39m     indexer = [indexer]\n",
      "\u001b[36mFile \u001b[39m\u001b[32m~/IdeaProjects/magic-formula-example/Pacejka-tire-model/testenv/lib/python3.13/site-packages/pandas/core/indexes/base.py:3819\u001b[39m, in \u001b[36mIndex.get_loc\u001b[39m\u001b[34m(self, key)\u001b[39m\n\u001b[32m   3814\u001b[39m     \u001b[38;5;28;01mif\u001b[39;00m \u001b[38;5;28misinstance\u001b[39m(casted_key, \u001b[38;5;28mslice\u001b[39m) \u001b[38;5;129;01mor\u001b[39;00m (\n\u001b[32m   3815\u001b[39m         \u001b[38;5;28misinstance\u001b[39m(casted_key, abc.Iterable)\n\u001b[32m   3816\u001b[39m         \u001b[38;5;129;01mand\u001b[39;00m \u001b[38;5;28many\u001b[39m(\u001b[38;5;28misinstance\u001b[39m(x, \u001b[38;5;28mslice\u001b[39m) \u001b[38;5;28;01mfor\u001b[39;00m x \u001b[38;5;129;01min\u001b[39;00m casted_key)\n\u001b[32m   3817\u001b[39m     ):\n\u001b[32m   3818\u001b[39m         \u001b[38;5;28;01mraise\u001b[39;00m InvalidIndexError(key)\n\u001b[32m-> \u001b[39m\u001b[32m3819\u001b[39m     \u001b[38;5;28;01mraise\u001b[39;00m \u001b[38;5;167;01mKeyError\u001b[39;00m(key) \u001b[38;5;28;01mfrom\u001b[39;00m\u001b[38;5;250m \u001b[39m\u001b[34;01merr\u001b[39;00m\n\u001b[32m   3820\u001b[39m \u001b[38;5;28;01mexcept\u001b[39;00m \u001b[38;5;167;01mTypeError\u001b[39;00m:\n\u001b[32m   3821\u001b[39m     \u001b[38;5;66;03m# If we have a listlike key, _check_indexing_error will raise\u001b[39;00m\n\u001b[32m   3822\u001b[39m     \u001b[38;5;66;03m#  InvalidIndexError. Otherwise we fall through and re-raise\u001b[39;00m\n\u001b[32m   3823\u001b[39m     \u001b[38;5;66;03m#  the TypeError.\u001b[39;00m\n\u001b[32m   3824\u001b[39m     \u001b[38;5;28mself\u001b[39m._check_indexing_error(key)\n",
      "\u001b[31mKeyError\u001b[39m: 'SR'"
     ]
    }
   ],
   "source": [
    "# Extract relevant columns\n",
    "SR = data['SR'].values\n",
    "FX = data['FX'].values\n",
    "SA = data['SA'].values\n",
    "FY = data['FY'].values\n",
    "FZ = data['FZ'].values"
   ]
  },
  {
   "cell_type": "code",
   "execution_count": null,
   "metadata": {},
   "outputs": [],
   "source": []
  }
 ],
 "metadata": {
  "kernelspec": {
   "display_name": "Python 3 (ipykernel)",
   "language": "python",
   "name": "python3"
  },
  "language_info": {
   "codemirror_mode": {
    "name": "ipython",
    "version": 3
   },
   "file_extension": ".py",
   "mimetype": "text/x-python",
   "name": "python",
   "nbconvert_exporter": "python",
   "pygments_lexer": "ipython3",
   "version": "3.13.1"
  }
 },
 "nbformat": 4,
 "nbformat_minor": 2
}
