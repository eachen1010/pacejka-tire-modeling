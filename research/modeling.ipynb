{
 "cells": [
  {
   "cell_type": "markdown",
   "metadata": {},
   "source": [
    "## Pacejka Formula"
   ]
  },
  {
   "cell_type": "markdown",
   "metadata": {},
   "source": [
    "\n",
    "The aim of this project is to use the magic formula to fit curves to tire performance based on the emperical data given. We'll use these curves to determine the best tire to use during competition. "
   ]
  },
  {
   "cell_type": "code",
   "execution_count": 52,
   "metadata": {},
   "outputs": [],
   "source": [
    "import math\n",
    "import numpy as np\n",
    "import pandas as pd\n",
    "from scipy.optimize import curve_fit\n",
    "import matplotlib.pyplot as plt"
   ]
  },
  {
   "cell_type": "markdown",
   "metadata": {},
   "source": [
    "### Magic Longitudinal Formula\n",
    "This is a mathematical model used to calculate the longitudinal force of a tire based on its vertical load and longitudinal slip."
   ]
  },
  {
   "cell_type": "code",
   "execution_count": 53,
   "metadata": {},
   "outputs": [],
   "source": [
    "# SR = slip ratio\n",
    "# B = stiffness factor\n",
    "# C = shape factor\n",
    "# D = peak factor\n",
    "# E = curvature factor\n",
    "def longitudinal_formula(SR, B, C, D, E):\n",
    "    return D * np.sin(C * np.arctan(B * (1 - E) * SR + E * np.arctan(B * SR)))"
   ]
  },
  {
   "cell_type": "markdown",
   "metadata": {},
   "source": [
    "### Magic Lateral Force Formula\n",
    "This model describes the relationship between the lateral force and slip angle."
   ]
  },
  {
   "cell_type": "code",
   "execution_count": 54,
   "metadata": {},
   "outputs": [],
   "source": [
    "# SA = slip angle\n",
    "# B = stiffness factor\n",
    "# C = shape factor\n",
    "# D = peak factor\n",
    "# E = curvature factor\n",
    "def lateral_formula(SA, B, C, D, E):\n",
    "    SA_rad = np.radians(SA)\n",
    "    return D * np.sin(C * np.arctan(B * (1 - E) * SA_rad + E * np.arctan(B * SA_rad)))"
   ]
  },
  {
   "cell_type": "markdown",
   "metadata": {},
   "source": [
    "### Data Processing\n",
    "We will now process the data from the .dat files provided by FSAE."
   ]
  },
  {
   "cell_type": "code",
   "execution_count": 55,
   "metadata": {},
   "outputs": [],
   "source": [
    "# Load in the data\n",
    "csv_path = r\"/Users/EmmyChen/IdeaProjects/pacejka-tire-modeling/research/B1965run32.dat\"\n",
    "\n",
    "data = pd.read_csv(csv_path, sep='\\t', skiprows=2)"
   ]
  },
  {
   "cell_type": "code",
   "execution_count": null,
   "metadata": {},
   "outputs": [],
   "source": [
    "data.head()"
   ]
  },
  {
   "cell_type": "code",
   "execution_count": null,
   "metadata": {},
   "outputs": [],
   "source": [
    "# Extract relevant columns\n",
    "SR = data['SR'].values\n",
    "SA = data['SA'].values\n",
    "FX = data['FX'].values\n",
    "SA = data['SA'].values\n",
    "FY = data['FY'].values\n",
    "FZ = data['FZ'].values\n",
    "data['SR'].describe()"
   ]
  },
  {
   "cell_type": "code",
   "execution_count": null,
   "metadata": {},
   "outputs": [],
   "source": [
    "FX_df = pd.DataFrame(FX)\n",
    "FX_df.dtypes\n",
    "SR_df = pd.DataFrame(SR)\n",
    "print(SR_df.isnull().any())\n",
    "print(FX_df.isnull().any())\n",
    "print(len(SR), len(FX))"
   ]
  },
  {
   "cell_type": "code",
   "execution_count": null,
   "metadata": {},
   "outputs": [],
   "source": [
    "plt.scatter(SR, FX)\n",
    "plt.show()"
   ]
  },
  {
   "cell_type": "code",
   "execution_count": null,
   "metadata": {},
   "outputs": [],
   "source": [
    "\n",
    "# Fit the model\n",
    "popt_fx, _ = curve_fit(longitudinal_formula, SR, FX, p0=[10, 1.5, max(FX), 0.5], maxfev=10000)\n",
    "\n",
    "# Plot results\n",
    "SR_fit = np.linspace(min(SR), max(SR), 200)\n",
    "FX_fit = longitudinal_formula(SR_fit, *popt_fx)\n",
    "\n",
    "plt.scatter(SR, FX, s=8, label=\"Data\")\n",
    "plt.plot(SR_fit, FX_fit, color='r', label=\"Magic Formula Fit\")\n",
    "plt.xlabel(\"Slip Ratio SR\")\n",
    "plt.ylabel(\"Fx (N)\")\n",
    "plt.legend()\n",
    "plt.show()\n",
    "\n",
    "print(\"Longitudinal parameters (B, C, D, E):\", popt_fx)"
   ]
  },
  {
   "cell_type": "code",
   "execution_count": null,
   "metadata": {},
   "outputs": [],
   "source": [
    "plt.scatter(SA, FY)\n",
    "plt.show()"
   ]
  },
  {
   "cell_type": "code",
   "execution_count": null,
   "metadata": {},
   "outputs": [],
   "source": [
    "popt_fy, _ = curve_fit(lateral_formula, SA, FY, p0=[10, 1.3, max(FY), 0.5], maxfev=10000)\n",
    "\n",
    "SA_fit = np.linspace(min(SA), max(SA), 79843)\n",
    "FY_fit = lateral_formula(SA_fit, *popt_fy)\n",
    "\n",
    "plt.scatter(SA, FY, s=8, label=\"Data\")\n",
    "plt.plot(SA_fit, FY_fit, color='r', label=\"Magic Formula Fit\")\n",
    "plt.xlabel(\"Slip Angle (°)\")\n",
    "plt.ylabel(\"Fy (N)\")\n",
    "plt.legend()\n",
    "plt.show()\n",
    "\n",
    "print(\"Lateral parameters (B, C, D, E):\", popt_fy)"
   ]
  }
 ],
 "metadata": {
  "kernelspec": {
   "display_name": "Python 3 (ipykernel)",
   "language": "python",
   "name": "python3"
  },
  "language_info": {
   "codemirror_mode": {
    "name": "ipython",
    "version": 3
   },
   "file_extension": ".py",
   "mimetype": "text/x-python",
   "name": "python",
   "nbconvert_exporter": "python",
   "pygments_lexer": "ipython3",
   "version": "3.13.1"
  }
 },
 "nbformat": 4,
 "nbformat_minor": 2
}
